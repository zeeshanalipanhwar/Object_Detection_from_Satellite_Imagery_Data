{
  "nbformat": 4,
  "nbformat_minor": 0,
  "metadata": {
    "colab": {
      "name": "Object_Detection_from_Satellite_Imagery_Data.ipynb",
      "provenance": [],
      "collapsed_sections": [],
      "toc_visible": true
    },
    "kernelspec": {
      "name": "python3",
      "display_name": "Python 3"
    },
    "accelerator": "GPU"
  },
  "cells": [
    {
      "cell_type": "markdown",
      "metadata": {
        "id": "f_MXNVWi6s6Y",
        "colab_type": "text"
      },
      "source": [
        "# Table of Contents\n",
        "\n",
        "1. [Problem Statement](#pstatement)\n",
        "2. [Data Loading](#dload)\n",
        "3. [Data Augmentation](#daugment)\n",
        "4. [Model Building](#mbuild)\n",
        "5. [Model Training](#mtrain)\n",
        "6. [Performance Visualization](#pvis)\n",
        "7. [Model Testing](#mtest)\n",
        "8. [Performance Measures](#pmeasures)\n",
        "9. [Qualitative Results](#quality)"
      ]
    },
    {
      "cell_type": "markdown",
      "metadata": {
        "id": "fiIGfOIT9f_2",
        "colab_type": "text"
      },
      "source": [
        "# 1. Problem Statement <a name='pstatement'></a>\n",
        "\n",
        "To implement an object detection pipeline using CNNs to localize and classifiy objects from the satellite imegry data.\n",
        "\n",
        "**Dataset:**\n",
        "Satellite Imagery Multi-vehicles Dataset (SIMD). It comprises 5,000 images of resolution 1024x768 and collectively contains 45,303 objects in 15 different classes of vehicles including cars, trucks, buses, long vehicles, various types of aircrafts and boats. The source images are taken from public satellite imagery available in Google Earth and contain images of multiple locations from seven countries.\n",
        "\n",
        "Dataset can be downloaded from [here](https://drive.google.com/drive/folders/1vBKMtZIyy681oZz81TiWn05g1iAC1DsF?usp=sharing). You can access it only using your SEECS email address."
      ]
    },
    {
      "cell_type": "code",
      "metadata": {
        "id": "D-hCIeOF3VkR",
        "colab_type": "code",
        "outputId": "50ba6250-ff72-4a05-e600-c549efcfc224",
        "colab": {
          "base_uri": "https://localhost:8080/",
          "height": 34
        }
      },
      "source": [
        "#Imports the print function from newer versions of python\n",
        "from __future__ import print_function\n",
        "\n",
        "%tensorflow_version 1.x\n",
        "%matplotlib inline"
      ],
      "execution_count": 0,
      "outputs": [
        {
          "output_type": "stream",
          "text": [
            "TensorFlow 1.x selected.\n"
          ],
          "name": "stdout"
        }
      ]
    },
    {
      "cell_type": "code",
      "metadata": {
        "id": "rgte09tIke_t",
        "colab_type": "code",
        "colab": {}
      },
      "source": [
        "import numpy as np"
      ],
      "execution_count": 0,
      "outputs": []
    },
    {
      "cell_type": "markdown",
      "metadata": {
        "id": "T5xJM21D_ALb",
        "colab_type": "text"
      },
      "source": [
        "# 2. Data Loading<a name='dload'></a>"
      ]
    },
    {
      "cell_type": "code",
      "metadata": {
        "id": "GTZDkxvg6q_V",
        "colab_type": "code",
        "outputId": "45c42fe7-2526-4e36-9ef1-9b9858dfc96e",
        "colab": {
          "base_uri": "https://localhost:8080/",
          "height": 34
        }
      },
      "source": [
        "from google.colab import drive\n",
        "drive.mount('/content/drive')"
      ],
      "execution_count": 0,
      "outputs": [
        {
          "output_type": "stream",
          "text": [
            "Drive already mounted at /content/drive; to attempt to forcibly remount, call drive.mount(\"/content/drive\", force_remount=True).\n"
          ],
          "name": "stdout"
        }
      ]
    },
    {
      "cell_type": "code",
      "metadata": {
        "id": "PTSsj2YF_E8A",
        "colab_type": "code",
        "colab": {}
      },
      "source": [
        "!unzip \"/content/drive/My Drive/Object_Detection_from_Satellite_Imagery_Data/SIMD.zip\""
      ],
      "execution_count": 0,
      "outputs": []
    },
    {
      "cell_type": "code",
      "metadata": {
        "id": "nD5tixOxKWTo",
        "colab_type": "code",
        "colab": {}
      },
      "source": [
        "!unzip \"/content/SIMS dataset/images.zip\""
      ],
      "execution_count": 0,
      "outputs": []
    },
    {
      "cell_type": "markdown",
      "metadata": {
        "id": "Jur_MkKDol_s",
        "colab_type": "text"
      },
      "source": [
        "**Data Annotations:** With each image, the annotation is available as text file. The annotation format can be described as $(c, xi, yi, w, h)$, where $c$ is the object class starting from $0$, $(xi, yi)$ is the center of object and $w$, $h$ are width and height respectively. All these values are percentages to the actual image."
      ]
    },
    {
      "cell_type": "code",
      "metadata": {
        "id": "7J1RqdtonY0v",
        "colab_type": "code",
        "colab": {}
      },
      "source": [
        "from glob import glob\n",
        "import numpy as np\n",
        "import cv2\n",
        "\n",
        "def load_image(image_path): #Load an image from a file path\n",
        "    return cv2.cvtColor(cv2.imread(image_path), cv2.COLOR_BGR2RGB)\n",
        "\n",
        "def load_training_data():\n",
        "    training_text_path = \"/content/SIMS dataset/training.txt\"\n",
        "    training_text = np.genfromtxt(training_text_path, dtype=str, delimiter='\\n')\n",
        "\n",
        "    X_train, Y_train = [], []\n",
        "    for image_name in training_text:\n",
        "        image = load_image('/content/images/'+image_name[8:]) # image_name is like './images000...'\n",
        "        if image.shape == (768, 1024, 3):\n",
        "            label = np.genfromtxt('/content/images/'+image_name[8:].split('.')[0]+'.txt', delimiter=' ')\n",
        "            X_train.append(image)\n",
        "            Y_train.append(label)\n",
        "        else: continue\n",
        "    X_train = np.array(X_train, dtype=\"float\") / 255.0\n",
        "    return X_train, Y_train\n",
        "\n",
        "def load_validation_data():\n",
        "    validation_text_path = \"/content/SIMS dataset/validation.txt\"\n",
        "    validation_text = np.genfromtxt(validation_text_path, dtype=str, delimiter='\\n')\n",
        "\n",
        "    X_valid, Y_valid = [], []\n",
        "    for image_name in validation_text:\n",
        "        image = load_image('/content/images/'+image_name[8:]) # image_name is like './images000...'\n",
        "        label = np.genfromtxt('/content/images/'+image_name[8:].split('.')[0]+'.txt', delimiter=' ')\n",
        "        X_valid.append(image)\n",
        "        Y_valid.append(label)\n",
        "    X_valid = np.array(X_valid, dtype=\"float\") / 255.0\n",
        "    return X_valid, Y_valid\n",
        "\n",
        "def load_test_data():\n",
        "    test_text_path = \"/content/SIMS dataset/test.txt\"\n",
        "    test_text = np.genfromtxt(test_text_path, dtype=str, delimiter='\\n')\n",
        "\n",
        "    X_test, Y_test = [], []\n",
        "    for image_name in test_text:\n",
        "        image = load_image('/content/images/'+image_name[8:]) # image_name is like './images000...'\n",
        "        label = np.genfromtxt('/content/images/'+image_name[8:].split('.')[0]+'.txt', delimiter=' ')\n",
        "        X_test.append(image)\n",
        "        Y_test.append(label)\n",
        "    X_test = np.array(X_test, dtype=\"float\") / 255.0\n",
        "    return X_test, Y_test\n",
        "\n",
        "def load_data():\n",
        "    try: del X_train, Y_train, X_valid, Y_valid, X_test, Y_test\n",
        "    except: pass\n",
        "\n",
        "    print (\"loading the training data..\")\n",
        "    X_train, Y_train = load_training_data()\n",
        "    print (\"done!\")\n",
        "\n",
        "    print (\"loading the validation data..\")\n",
        "    X_valid, Y_valid = load_validation_data()\n",
        "    print (\"done!\")\n",
        "\n",
        "    print (\"load the test data..\")\n",
        "    X_test, Y_test = load_test_data()\n",
        "    print (\"done!\")\n",
        "\n",
        "    return X_train, X_valid, X_test, Y_train, Y_valid, Y_test"
      ],
      "execution_count": 0,
      "outputs": []
    },
    {
      "cell_type": "code",
      "metadata": {
        "id": "I8MC8hyj71NR",
        "colab_type": "code",
        "outputId": "cac36927-72df-4a20-ee33-7ec73bd3be30",
        "colab": {
          "base_uri": "https://localhost:8080/",
          "height": 105
        }
      },
      "source": [
        "(X_train, X_valid, X_test, Y_train, Y_valid, Y_test) = load_data()\n",
        "print (len(X_train), len(X_valid), len(X_test))"
      ],
      "execution_count": 0,
      "outputs": [
        {
          "output_type": "stream",
          "text": [
            "loading the training data..\n",
            "done!\n",
            "loading the validation data..\n",
            "done!\n",
            "load the test data..\n"
          ],
          "name": "stdout"
        }
      ]
    },
    {
      "cell_type": "code",
      "metadata": {
        "id": "wPOjLBmkL8vg",
        "colab_type": "code",
        "colab": {}
      },
      "source": [
        ""
      ],
      "execution_count": 0,
      "outputs": []
    },
    {
      "cell_type": "code",
      "metadata": {
        "id": "i6LheyoR71JX",
        "colab_type": "code",
        "colab": {}
      },
      "source": [
        "(X_train, X_valid, X_test, Y_train, Y_valid, Y_test) = load_data()\n",
        "\n",
        "print (\"X_train: \", X_train.shape, \"\\nY_train: \", Y_train.shape)\n",
        "print (\"X_valid: \", X_valid.shape, \"\\nY_valid: \", Y_valid.shape)\n",
        "print (\"X_test: \", X_test.shape, \"\\nY_test: \", Y_test.shape)"
      ],
      "execution_count": 0,
      "outputs": []
    },
    {
      "cell_type": "code",
      "metadata": {
        "id": "vMNLsCfzIPWU",
        "colab_type": "code",
        "colab": {}
      },
      "source": [
        ""
      ],
      "execution_count": 0,
      "outputs": []
    }
  ]
}